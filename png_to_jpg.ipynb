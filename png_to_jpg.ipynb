{
 "cells": [
  {
   "cell_type": "code",
   "execution_count": 22,
   "metadata": {},
   "outputs": [],
   "source": [
    "from PIL import Image\n",
    "import numpy as np\n",
    "#png = Image.open('test_images/lucas_linkd.png')\n",
    "png.load() # required for png.split()\n",
    "\n",
    "background = Image.new(\"RGB\", png.size, (255, 255, 255))\n",
    "background.paste(png, mask=png.split()[3]) # 3 is the alpha channel\n",
    "\n",
    "background = background.resize((64,64), Image.BICUBIC)\n",
    "#np.array(background).\n",
    "background.save('./test_images/lucas_LR_from_original.png')"
   ]
  },
  {
   "cell_type": "code",
   "execution_count": 9,
   "metadata": {},
   "outputs": [],
   "source": [
    "def get_image(image_path, width, height):\n",
    "    \"\"\"\n",
    "    Read image from image_path\n",
    "    :param image_path: Path of image\n",
    "    :param width: Width of image\n",
    "    :param height: Height of image\n",
    "    :return: Image data\n",
    "    \"\"\"\n",
    "    \n",
    "    image = Image.open(image_path)\n",
    "    if np.array(image).shape==4:\n",
    "        image = np.array(image)[:,:,:3]\n",
    "        image = Image.fromarray(image)\n",
    "    if image.size != (width, height):  # HACK - Check if image is from the CELEBA dataset\n",
    "        # Remove most pixels that aren't part of a face\n",
    "        face_width = face_height = 128\n",
    "        j = (image.size[0] - face_width) // 2\n",
    "        i = (image.size[1] - face_height) // 2\n",
    "        image = image.crop([j, i, j + face_width, i + face_height])\n",
    "\n",
    "    return image\n"
   ]
  },
  {
   "cell_type": "code",
   "execution_count": 12,
   "metadata": {},
   "outputs": [],
   "source": [
    "png = get_image('test_images/lucas_linkd.png', 128, 128)\n",
    "png.load() # required for png.split()\n",
    "\n",
    "background = Image.new(\"RGB\", png.size, (255, 255, 255))\n",
    "background.paste(png, mask=png.split()[3]) # 3 is the alpha channel\n",
    "\n",
    "background = background.resize((64,64), Image.BICUBIC)\n",
    "#np.array(background).\n",
    "background.save('./test_images/lucas_LR.jpg', 'JPEG', quality=80)"
   ]
  },
  {
   "cell_type": "code",
   "execution_count": 17,
   "metadata": {},
   "outputs": [],
   "source": [
    "image = Image.open('./test_images/lucas1.png').resize((64,64), Image.BICUBIC)"
   ]
  },
  {
   "cell_type": "code",
   "execution_count": null,
   "metadata": {},
   "outputs": [],
   "source": []
  }
 ],
 "metadata": {
  "kernelspec": {
   "display_name": "Python 3",
   "language": "python",
   "name": "python3"
  },
  "language_info": {
   "codemirror_mode": {
    "name": "ipython",
    "version": 3
   },
   "file_extension": ".py",
   "mimetype": "text/x-python",
   "name": "python",
   "nbconvert_exporter": "python",
   "pygments_lexer": "ipython3",
   "version": "3.6.7"
  }
 },
 "nbformat": 4,
 "nbformat_minor": 2
}
